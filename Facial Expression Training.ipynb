{
 "cells": [
  {
   "cell_type": "markdown",
   "metadata": {},
   "source": [
    "## Import libraries\n"
   ]
  },
  {
   "cell_type": "code",
   "execution_count": 17,
   "metadata": {},
   "outputs": [],
   "source": [
    "import keras\n",
    "from keras.preprocessing.image import ImageDataGenerator"
   ]
  },
  {
   "cell_type": "code",
   "execution_count": 18,
   "metadata": {},
   "outputs": [],
   "source": [
    "from keras.models import Sequential\n",
    "from keras.layers import Dense, Dropout, Activation, Flatten, BatchNormalization\n",
    "from keras.layers import Conv2D, MaxPool2D\n",
    "import os\n"
   ]
  },
  {
   "cell_type": "code",
   "execution_count": 19,
   "metadata": {},
   "outputs": [],
   "source": [
    "# Define no of classes\n",
    "num_classes = 7\n"
   ]
  },
  {
   "cell_type": "code",
   "execution_count": 20,
   "metadata": {},
   "outputs": [],
   "source": [
    "img_rows, img_cols = 48, 48"
   ]
  },
  {
   "cell_type": "code",
   "execution_count": 21,
   "metadata": {},
   "outputs": [],
   "source": [
    "batch_size = 8"
   ]
  },
  {
   "cell_type": "markdown",
   "metadata": {},
   "source": [
    "# Import the dataset\n",
    "Here, I imported the dataset from Kaggle\n"
   ]
  },
  {
   "cell_type": "code",
   "execution_count": 22,
   "metadata": {},
   "outputs": [],
   "source": [
    "\n",
    "train_data = \"/home/pneuma/Desktop/Assessment/Dataset/train/\""
   ]
  },
  {
   "cell_type": "code",
   "execution_count": 23,
   "metadata": {},
   "outputs": [],
   "source": [
    "val_data = '/home/pneuma/Desktop/Assessment/Dataset/validation/'"
   ]
  },
  {
   "cell_type": "code",
   "execution_count": null,
   "metadata": {},
   "outputs": [],
   "source": [
    "\n",
    "\n"
   ]
  },
  {
   "cell_type": "markdown",
   "metadata": {},
   "source": [
    "## Data Augmentation"
   ]
  },
  {
   "cell_type": "code",
   "execution_count": 24,
   "metadata": {},
   "outputs": [],
   "source": [
    "train_data_generator = ImageDataGenerator(rescale=1./255, rotation_range=30, shear_range= 0.3, \n",
    "                                         zoom_range=0.3, width_shift_range=0.4, height_shift_range=0.3,\n",
    "                                         horizontal_flip=True, vertical_flip=True,fill_mode='nearest')\n",
    "validation_data_generator = ImageDataGenerator(rescale=1./255)"
   ]
  },
  {
   "cell_type": "code",
   "execution_count": 25,
   "metadata": {},
   "outputs": [
    {
     "name": "stdout",
     "output_type": "stream",
     "text": [
      "Found 28709 images belonging to 7 classes.\n",
      "Found 3589 images belonging to 7 classes.\n"
     ]
    }
   ],
   "source": [
    "train_generator = train_data_generator.flow_from_directory(train_data, color_mode='grayscale',\n",
    "                                                          target_size = (img_rows, img_cols), batch_size=batch_size,\n",
    "                                                          class_mode = 'categorical', shuffle = True)\n",
    "\n",
    "validation_generator = validation_data_generator.flow_from_directory(val_data, color_mode='grayscale',\n",
    "                                                          target_size = (img_rows, img_cols), batch_size = batch_size,\n",
    "                                                          class_mode = 'categorical', shuffle = True)\n"
   ]
  },
  {
   "cell_type": "code",
   "execution_count": 26,
   "metadata": {},
   "outputs": [],
   "source": [
    "model = Sequential()\n"
   ]
  },
  {
   "cell_type": "markdown",
   "metadata": {},
   "source": [
    "## Creating A CNN"
   ]
  },
  {
   "cell_type": "code",
   "execution_count": 27,
   "metadata": {},
   "outputs": [],
   "source": [
    "# Block 1 of CNN\n",
    "model.add(Conv2D(32,(3,3),padding = 'same', kernel_initializer = 'he_normal', input_shape = (img_rows,img_cols,1)))\n",
    "model.add(Activation('elu'))\n",
    "model.add(BatchNormalization())\n",
    "model.add(Conv2D(32,(3,3),padding = 'same', kernel_initializer = 'he_normal', input_shape = (img_rows,img_cols,1)))\n",
    "model.add(Activation('elu'))\n",
    "model.add(BatchNormalization())\n",
    "model.add(MaxPool2D(pool_size= (2,2)))\n",
    "model.add(Dropout(0.2))\n",
    "\n",
    "# Block 2\n",
    "model.add(Conv2D(64,(3,3),padding = 'same', kernel_initializer = 'he_normal'))\n",
    "model.add(Activation('elu'))\n",
    "model.add(BatchNormalization())\n",
    "model.add(Conv2D(32,(3,3),padding = 'same', kernel_initializer = 'he_normal'))\n",
    "model.add(Activation('elu'))\n",
    "model.add(BatchNormalization())\n",
    "model.add(MaxPool2D(pool_size= (2,2)))\n",
    "model.add(Dropout(0.2))\n",
    "\n",
    "# Block 3\n",
    "model.add(Conv2D(128,(3,3),padding = 'same', kernel_initializer = 'he_normal'))\n",
    "model.add(Activation('elu'))\n",
    "model.add(BatchNormalization())\n",
    "model.add(Conv2D(32,(3,3),padding = 'same', kernel_initializer = 'he_normal'))\n",
    "model.add(Activation('elu'))\n",
    "model.add(BatchNormalization())\n",
    "model.add(MaxPool2D(pool_size= (2,2)))\n",
    "model.add(Dropout(0.2))\n",
    "\n",
    "#BLock 4\n",
    "model.add(Conv2D(256,(3,3),padding = 'same', kernel_initializer = 'he_normal'))\n",
    "model.add(Activation('elu'))\n",
    "model.add(BatchNormalization())\n",
    "model.add(Conv2D(32,(3,3),padding = 'same', kernel_initializer = 'he_normal'))\n",
    "model.add(Activation('elu'))\n",
    "model.add(BatchNormalization())\n",
    "model.add(MaxPool2D(pool_size= (2,2)))\n",
    "model.add(Dropout(0.2))\n",
    "\n",
    "\n",
    "#Flattten\n",
    "model.add(Flatten())\n",
    "model.add(Dense(64,kernel_initializer='he_normal'))\n",
    "model.add(Activation('elu'))\n",
    "model.add(BatchNormalization())\n",
    "model.add(Dropout(0.2))\n",
    "\n",
    "#Dense\n",
    "\n",
    "model.add(Dense(64, kernel_initializer = 'he_normal'))\n",
    "model.add(BatchNormalization())\n",
    "model.add(Activation('elu'))\n",
    "model.add(Dropout(0.5))\n",
    "\n",
    "# Output\n",
    "\n",
    "model.add(Dense(num_classes, kernel_initializer='he_normal'))\n",
    "model.add(Activation('softmax'))\n"
   ]
  },
  {
   "cell_type": "code",
   "execution_count": 28,
   "metadata": {},
   "outputs": [
    {
     "name": "stdout",
     "output_type": "stream",
     "text": [
      "Model: \"sequential_1\"\n",
      "_________________________________________________________________\n",
      " Layer (type)                Output Shape              Param #   \n",
      "=================================================================\n",
      " conv2d_8 (Conv2D)           (None, 48, 48, 32)        320       \n",
      "                                                                 \n",
      " activation_11 (Activation)  (None, 48, 48, 32)        0         \n",
      "                                                                 \n",
      " batch_normalization_10 (Bat  (None, 48, 48, 32)       128       \n",
      " chNormalization)                                                \n",
      "                                                                 \n",
      " conv2d_9 (Conv2D)           (None, 48, 48, 32)        9248      \n",
      "                                                                 \n",
      " activation_12 (Activation)  (None, 48, 48, 32)        0         \n",
      "                                                                 \n",
      " batch_normalization_11 (Bat  (None, 48, 48, 32)       128       \n",
      " chNormalization)                                                \n",
      "                                                                 \n",
      " max_pooling2d_4 (MaxPooling  (None, 24, 24, 32)       0         \n",
      " 2D)                                                             \n",
      "                                                                 \n",
      " dropout_6 (Dropout)         (None, 24, 24, 32)        0         \n",
      "                                                                 \n",
      " conv2d_10 (Conv2D)          (None, 24, 24, 64)        18496     \n",
      "                                                                 \n",
      " activation_13 (Activation)  (None, 24, 24, 64)        0         \n",
      "                                                                 \n",
      " batch_normalization_12 (Bat  (None, 24, 24, 64)       256       \n",
      " chNormalization)                                                \n",
      "                                                                 \n",
      " conv2d_11 (Conv2D)          (None, 24, 24, 32)        18464     \n",
      "                                                                 \n",
      " activation_14 (Activation)  (None, 24, 24, 32)        0         \n",
      "                                                                 \n",
      " batch_normalization_13 (Bat  (None, 24, 24, 32)       128       \n",
      " chNormalization)                                                \n",
      "                                                                 \n",
      " max_pooling2d_5 (MaxPooling  (None, 12, 12, 32)       0         \n",
      " 2D)                                                             \n",
      "                                                                 \n",
      " dropout_7 (Dropout)         (None, 12, 12, 32)        0         \n",
      "                                                                 \n",
      " conv2d_12 (Conv2D)          (None, 12, 12, 128)       36992     \n",
      "                                                                 \n",
      " activation_15 (Activation)  (None, 12, 12, 128)       0         \n",
      "                                                                 \n",
      " batch_normalization_14 (Bat  (None, 12, 12, 128)      512       \n",
      " chNormalization)                                                \n",
      "                                                                 \n",
      " conv2d_13 (Conv2D)          (None, 12, 12, 32)        36896     \n",
      "                                                                 \n",
      " activation_16 (Activation)  (None, 12, 12, 32)        0         \n",
      "                                                                 \n",
      " batch_normalization_15 (Bat  (None, 12, 12, 32)       128       \n",
      " chNormalization)                                                \n",
      "                                                                 \n",
      " max_pooling2d_6 (MaxPooling  (None, 6, 6, 32)         0         \n",
      " 2D)                                                             \n",
      "                                                                 \n",
      " dropout_8 (Dropout)         (None, 6, 6, 32)          0         \n",
      "                                                                 \n",
      " conv2d_14 (Conv2D)          (None, 6, 6, 256)         73984     \n",
      "                                                                 \n",
      " activation_17 (Activation)  (None, 6, 6, 256)         0         \n",
      "                                                                 \n",
      " batch_normalization_16 (Bat  (None, 6, 6, 256)        1024      \n",
      " chNormalization)                                                \n",
      "                                                                 \n",
      " conv2d_15 (Conv2D)          (None, 6, 6, 32)          73760     \n",
      "                                                                 \n",
      " activation_18 (Activation)  (None, 6, 6, 32)          0         \n",
      "                                                                 \n",
      " batch_normalization_17 (Bat  (None, 6, 6, 32)         128       \n",
      " chNormalization)                                                \n",
      "                                                                 \n",
      " max_pooling2d_7 (MaxPooling  (None, 3, 3, 32)         0         \n",
      " 2D)                                                             \n",
      "                                                                 \n",
      " dropout_9 (Dropout)         (None, 3, 3, 32)          0         \n",
      "                                                                 \n",
      " flatten_1 (Flatten)         (None, 288)               0         \n",
      "                                                                 \n",
      " dense_3 (Dense)             (None, 64)                18496     \n",
      "                                                                 \n",
      " activation_19 (Activation)  (None, 64)                0         \n",
      "                                                                 \n",
      " batch_normalization_18 (Bat  (None, 64)               256       \n",
      " chNormalization)                                                \n",
      "                                                                 \n",
      " dropout_10 (Dropout)        (None, 64)                0         \n",
      "                                                                 \n",
      " dense_4 (Dense)             (None, 64)                4160      \n",
      "                                                                 \n",
      " batch_normalization_19 (Bat  (None, 64)               256       \n",
      " chNormalization)                                                \n",
      "                                                                 \n",
      " activation_20 (Activation)  (None, 64)                0         \n",
      "                                                                 \n",
      " dropout_11 (Dropout)        (None, 64)                0         \n",
      "                                                                 \n",
      " dense_5 (Dense)             (None, 7)                 455       \n",
      "                                                                 \n",
      " activation_21 (Activation)  (None, 7)                 0         \n",
      "                                                                 \n",
      "=================================================================\n",
      "Total params: 294,215\n",
      "Trainable params: 292,743\n",
      "Non-trainable params: 1,472\n",
      "_________________________________________________________________\n"
     ]
    }
   ],
   "source": [
    "model.summary()"
   ]
  },
  {
   "cell_type": "code",
   "execution_count": null,
   "metadata": {},
   "outputs": [],
   "source": [
    "\n",
    "    "
   ]
  },
  {
   "cell_type": "code",
   "execution_count": 29,
   "metadata": {},
   "outputs": [],
   "source": [
    "# Train the model\n",
    "from keras.optimizers import RMSprop, SGD, Adam\n",
    "from keras.callbacks import ModelCheckpoint, EarlyStopping, ReduceLROnPlateau"
   ]
  },
  {
   "cell_type": "code",
   "execution_count": null,
   "metadata": {},
   "outputs": [],
   "source": []
  },
  {
   "cell_type": "code",
   "execution_count": 30,
   "metadata": {},
   "outputs": [],
   "source": [
    "checkpoint = ModelCheckpoint('/home/pneuma/Desktop/Assessment/expression_facial_vgg2.h5',\n",
    "                            monitor = 'val_loss',\n",
    "                            mode = 'min',\n",
    "                            save_best_only=True,\n",
    "                            verbose = 1\n",
    "                            )\n",
    "\n",
    "earlystop = EarlyStopping(monitor = 'val_loss',\n",
    "                         min_delta=0,\n",
    "                         patience=5, # No of steps for the model to stop\n",
    "                         verbose=1,\n",
    "                         restore_best_weights=True\n",
    "                         )\n",
    "\n",
    "reduce_lr = ReduceLROnPlateau(monitor='val_loss',\n",
    "                             factor=0.2,\n",
    "                             patience=3,\n",
    "                             verbose=1,\n",
    "                             min_delta=0.0001\n",
    "                             )\n",
    "callbacks = [earlystop,checkpoint,reduce_lr]\n",
    "\n",
    "\n",
    "\n"
   ]
  },
  {
   "cell_type": "code",
   "execution_count": 31,
   "metadata": {},
   "outputs": [],
   "source": [
    "# COmpile the model\n",
    "model.compile(loss = 'categorical_crossentropy',\n",
    "             optimizer = Adam(learning_rate = 0.001, beta_1=0.9, beta_2=0.999, epsilon=1e-7),\n",
    "             metrics=['Accuracy'])\n",
    "\n",
    "\n",
    "nb_train_samples = 28709\n",
    "nb_validation_sample = 3589\n",
    "epochs = 25\n"
   ]
  },
  {
   "cell_type": "code",
   "execution_count": 32,
   "metadata": {},
   "outputs": [
    {
     "name": "stdout",
     "output_type": "stream",
     "text": [
      "Epoch 1/25\n",
      "3589/3588 [==============================] - ETA: 0s - loss: 1.9229 - Accuracy: 0.2155\n",
      "Epoch 1: val_loss improved from inf to 1.79509, saving model to /home/pneuma/Desktop/Assessment/expression_facial_vgg2.h5\n",
      "3588/3588 [==============================] - 503s 139ms/step - loss: 1.9229 - Accuracy: 0.2155 - val_loss: 1.7951 - val_Accuracy: 0.2460 - lr: 0.0010\n",
      "Epoch 2/25\n",
      "3589/3588 [==============================] - ETA: 0s - loss: 1.8021 - Accuracy: 0.2438\n",
      "Epoch 2: val_loss did not improve from 1.79509\n",
      "3588/3588 [==============================] - 393s 109ms/step - loss: 1.8021 - Accuracy: 0.2438 - val_loss: 1.7965 - val_Accuracy: 0.2502 - lr: 0.0010\n",
      "Epoch 3/25\n",
      "3589/3588 [==============================] - ETA: 0s - loss: 1.7823 - Accuracy: 0.2558\n",
      "Epoch 3: val_loss improved from 1.79509 to 1.75559, saving model to /home/pneuma/Desktop/Assessment/expression_facial_vgg2.h5\n",
      "3588/3588 [==============================] - 355s 99ms/step - loss: 1.7823 - Accuracy: 0.2558 - val_loss: 1.7556 - val_Accuracy: 0.2806 - lr: 0.0010\n",
      "Epoch 4/25\n",
      "3589/3588 [==============================] - ETA: 0s - loss: 1.7559 - Accuracy: 0.2729\n",
      "Epoch 4: val_loss improved from 1.75559 to 1.74815, saving model to /home/pneuma/Desktop/Assessment/expression_facial_vgg2.h5\n",
      "3588/3588 [==============================] - 378s 105ms/step - loss: 1.7559 - Accuracy: 0.2729 - val_loss: 1.7481 - val_Accuracy: 0.2831 - lr: 0.0010\n",
      "Epoch 5/25\n",
      "3589/3588 [==============================] - ETA: 0s - loss: 1.7374 - Accuracy: 0.2842\n",
      "Epoch 5: val_loss improved from 1.74815 to 1.69284, saving model to /home/pneuma/Desktop/Assessment/expression_facial_vgg2.h5\n",
      "3588/3588 [==============================] - 420s 117ms/step - loss: 1.7374 - Accuracy: 0.2842 - val_loss: 1.6928 - val_Accuracy: 0.3151 - lr: 0.0010\n",
      "Epoch 6/25\n",
      "3589/3588 [==============================] - ETA: 0s - loss: 1.7213 - Accuracy: 0.2948\n",
      "Epoch 6: val_loss improved from 1.69284 to 1.67315, saving model to /home/pneuma/Desktop/Assessment/expression_facial_vgg2.h5\n",
      "3588/3588 [==============================] - 378s 105ms/step - loss: 1.7213 - Accuracy: 0.2948 - val_loss: 1.6732 - val_Accuracy: 0.3491 - lr: 0.0010\n",
      "Epoch 7/25\n",
      "3589/3588 [==============================] - ETA: 0s - loss: 1.6902 - Accuracy: 0.3176\n",
      "Epoch 7: val_loss improved from 1.67315 to 1.67084, saving model to /home/pneuma/Desktop/Assessment/expression_facial_vgg2.h5\n",
      "3588/3588 [==============================] - 315s 88ms/step - loss: 1.6902 - Accuracy: 0.3176 - val_loss: 1.6708 - val_Accuracy: 0.3709 - lr: 0.0010\n",
      "Epoch 8/25\n",
      "3589/3588 [==============================] - ETA: 0s - loss: 1.6745 - Accuracy: 0.3246\n",
      "Epoch 8: val_loss improved from 1.67084 to 1.65678, saving model to /home/pneuma/Desktop/Assessment/expression_facial_vgg2.h5\n",
      "3588/3588 [==============================] - 312s 87ms/step - loss: 1.6745 - Accuracy: 0.3246 - val_loss: 1.6568 - val_Accuracy: 0.3787 - lr: 0.0010\n",
      "Epoch 9/25\n",
      "3589/3588 [==============================] - ETA: 0s - loss: 1.6486 - Accuracy: 0.3436\n",
      "Epoch 9: val_loss improved from 1.65678 to 1.63367, saving model to /home/pneuma/Desktop/Assessment/expression_facial_vgg2.h5\n",
      "3588/3588 [==============================] - 340s 95ms/step - loss: 1.6486 - Accuracy: 0.3436 - val_loss: 1.6337 - val_Accuracy: 0.3873 - lr: 0.0010\n",
      "Epoch 10/25\n",
      "3589/3588 [==============================] - ETA: 0s - loss: 1.6300 - Accuracy: 0.3567\n",
      "Epoch 10: val_loss did not improve from 1.63367\n",
      "3588/3588 [==============================] - 361s 101ms/step - loss: 1.6300 - Accuracy: 0.3567 - val_loss: 1.6795 - val_Accuracy: 0.3962 - lr: 0.0010\n",
      "Epoch 11/25\n",
      "3589/3588 [==============================] - ETA: 0s - loss: 1.6071 - Accuracy: 0.3710\n",
      "Epoch 11: val_loss did not improve from 1.63367\n",
      "3588/3588 [==============================] - 364s 101ms/step - loss: 1.6071 - Accuracy: 0.3710 - val_loss: 1.7288 - val_Accuracy: 0.3931 - lr: 0.0010\n",
      "Epoch 12/25\n",
      "3589/3588 [==============================] - ETA: 0s - loss: 1.5941 - Accuracy: 0.3779\n",
      "Epoch 12: val_loss improved from 1.63367 to 1.53475, saving model to /home/pneuma/Desktop/Assessment/expression_facial_vgg2.h5\n",
      "3588/3588 [==============================] - 426s 119ms/step - loss: 1.5941 - Accuracy: 0.3779 - val_loss: 1.5347 - val_Accuracy: 0.4232 - lr: 0.0010\n",
      "Epoch 13/25\n",
      "3589/3588 [==============================] - ETA: 0s - loss: 1.5788 - Accuracy: 0.3866\n",
      "Epoch 13: val_loss did not improve from 1.53475\n",
      "3588/3588 [==============================] - 539s 150ms/step - loss: 1.5788 - Accuracy: 0.3866 - val_loss: 1.5590 - val_Accuracy: 0.4252 - lr: 0.0010\n",
      "Epoch 14/25\n",
      "3589/3588 [==============================] - ETA: 0s - loss: 1.5674 - Accuracy: 0.3868\n",
      "Epoch 14: val_loss did not improve from 1.53475\n",
      "3588/3588 [==============================] - 371s 103ms/step - loss: 1.5674 - Accuracy: 0.3868 - val_loss: 1.5695 - val_Accuracy: 0.4160 - lr: 0.0010\n",
      "Epoch 15/25\n",
      "3589/3588 [==============================] - ETA: 0s - loss: 1.5497 - Accuracy: 0.3984\n",
      "Epoch 15: val_loss did not improve from 1.53475\n",
      "\n",
      "Epoch 15: ReduceLROnPlateau reducing learning rate to 0.00020000000949949026.\n",
      "3588/3588 [==============================] - 376s 105ms/step - loss: 1.5497 - Accuracy: 0.3984 - val_loss: 1.5626 - val_Accuracy: 0.4333 - lr: 0.0010\n",
      "Epoch 16/25\n",
      "3589/3588 [==============================] - ETA: 0s - loss: 1.5234 - Accuracy: 0.4104\n",
      "Epoch 16: val_loss improved from 1.53475 to 1.52912, saving model to /home/pneuma/Desktop/Assessment/expression_facial_vgg2.h5\n",
      "3588/3588 [==============================] - 364s 101ms/step - loss: 1.5234 - Accuracy: 0.4104 - val_loss: 1.5291 - val_Accuracy: 0.4478 - lr: 2.0000e-04\n",
      "Epoch 17/25\n",
      "3589/3588 [==============================] - ETA: 0s - loss: 1.5156 - Accuracy: 0.4139\n",
      "Epoch 17: val_loss did not improve from 1.52912\n",
      "3588/3588 [==============================] - 334s 93ms/step - loss: 1.5156 - Accuracy: 0.4139 - val_loss: 1.5492 - val_Accuracy: 0.4416 - lr: 2.0000e-04\n",
      "Epoch 18/25\n",
      "3589/3588 [==============================] - ETA: 0s - loss: 1.5084 - Accuracy: 0.4193\n",
      "Epoch 18: val_loss did not improve from 1.52912\n",
      "3588/3588 [==============================] - 361s 101ms/step - loss: 1.5084 - Accuracy: 0.4193 - val_loss: 1.5479 - val_Accuracy: 0.4452 - lr: 2.0000e-04\n",
      "Epoch 19/25\n",
      "3589/3588 [==============================] - ETA: 0s - loss: 1.5045 - Accuracy: 0.4227\n",
      "Epoch 19: val_loss improved from 1.52912 to 1.51430, saving model to /home/pneuma/Desktop/Assessment/expression_facial_vgg2.h5\n",
      "3588/3588 [==============================] - 429s 120ms/step - loss: 1.5045 - Accuracy: 0.4227 - val_loss: 1.5143 - val_Accuracy: 0.4408 - lr: 2.0000e-04\n",
      "Epoch 20/25\n",
      "3589/3588 [==============================] - ETA: 0s - loss: 1.5023 - Accuracy: 0.4223\n",
      "Epoch 20: val_loss did not improve from 1.51430\n",
      "3588/3588 [==============================] - 404s 113ms/step - loss: 1.5023 - Accuracy: 0.4223 - val_loss: 1.5156 - val_Accuracy: 0.4344 - lr: 2.0000e-04\n",
      "Epoch 21/25\n",
      "3589/3588 [==============================] - ETA: 0s - loss: 1.4899 - Accuracy: 0.4265\n",
      "Epoch 21: val_loss did not improve from 1.51430\n",
      "3588/3588 [==============================] - 367s 102ms/step - loss: 1.4899 - Accuracy: 0.4265 - val_loss: 1.5441 - val_Accuracy: 0.4400 - lr: 2.0000e-04\n",
      "Epoch 22/25\n",
      "3589/3588 [==============================] - ETA: 0s - loss: 1.4925 - Accuracy: 0.4254\n",
      "Epoch 22: val_loss improved from 1.51430 to 1.51392, saving model to /home/pneuma/Desktop/Assessment/expression_facial_vgg2.h5\n",
      "3588/3588 [==============================] - 321s 90ms/step - loss: 1.4925 - Accuracy: 0.4254 - val_loss: 1.5139 - val_Accuracy: 0.4486 - lr: 2.0000e-04\n",
      "Epoch 23/25\n",
      "3589/3588 [==============================] - ETA: 0s - loss: 1.4905 - Accuracy: 0.4264\n",
      "Epoch 23: val_loss improved from 1.51392 to 1.51283, saving model to /home/pneuma/Desktop/Assessment/expression_facial_vgg2.h5\n",
      "3588/3588 [==============================] - 305s 85ms/step - loss: 1.4905 - Accuracy: 0.4264 - val_loss: 1.5128 - val_Accuracy: 0.4394 - lr: 2.0000e-04\n",
      "Epoch 24/25\n",
      "3589/3588 [==============================] - ETA: 0s - loss: 1.4914 - Accuracy: 0.4271\n",
      "Epoch 24: val_loss did not improve from 1.51283\n",
      "3588/3588 [==============================] - 354s 99ms/step - loss: 1.4914 - Accuracy: 0.4271 - val_loss: 1.5153 - val_Accuracy: 0.4450 - lr: 2.0000e-04\n"
     ]
    },
    {
     "name": "stdout",
     "output_type": "stream",
     "text": [
      "Epoch 25/25\n",
      "3589/3588 [==============================] - ETA: 0s - loss: 1.4846 - Accuracy: 0.4299\n",
      "Epoch 25: val_loss did not improve from 1.51283\n",
      "3588/3588 [==============================] - 370s 103ms/step - loss: 1.4846 - Accuracy: 0.4299 - val_loss: 1.5312 - val_Accuracy: 0.4416 - lr: 2.0000e-04\n"
     ]
    }
   ],
   "source": [
    "history =model.fit(train_generator,\n",
    "                            steps_per_epoch= nb_train_samples/batch_size,\n",
    "                            epochs=epochs,\n",
    "                            callbacks=callbacks,\n",
    "                            validation_data=validation_generator,\n",
    "                            validation_steps=nb_validation_sample/batch_size) "
   ]
  },
  {
   "cell_type": "code",
   "execution_count": 34,
   "metadata": {},
   "outputs": [
    {
     "data": {
      "image/png": "[encoded data removed]",
      "text/plain": [
       "<Figure size 1296x432 with 2 Axes>"
      ]
     },
     "metadata": {
      "needs_background": "light"
     },
     "output_type": "display_data"
    }
   ],
   "source": [
    "\n",
    "import seaborn as sns\n",
    "import matplotlib.pyplot as plt\n",
    "\n",
    "fig, axes = plt.subplots(1,2, figsize=(18, 6))\n",
    "# Plot training & validation accuracy values\n",
    "axes[0].plot(history.history['Accuracy'])\n",
    "axes[0].plot(history.history['val_Accuracy'])\n",
    "axes[0].set_title('Model Accuracy')\n",
    "axes[0].set_ylabel('Accuracy')\n",
    "axes[0].set_xlabel('Epoch')\n",
    "axes[0].legend(['Train', 'Validation'], loc='upper left')\n",
    "\n",
    "# Plot training & validation loss values\n",
    "axes[1].plot(history.history['loss'])\n",
    "axes[1].plot(history.history['val_loss'])\n",
    "axes[1].set_title('Model loss')\n",
    "axes[1].set_ylabel('Loss')\n",
    "axes[1].set_xlabel('Epoch')\n",
    "axes[1].legend(['Train', 'Validation'], loc='upper left')\n",
    "plt.show()\n",
    "\n"
   ]
  },
  {
   "cell_type": "code",
   "execution_count": null,
   "metadata": {},
   "outputs": [],
   "source": []
  }
 ],
 "metadata": {
  "kernelspec": {
   "display_name": "Python 3",
   "language": "python",
   "name": "python3"
  },
  "language_info": {
   "codemirror_mode": {
    "name": "ipython",
    "version": 3
   },
   "file_extension": ".py",
   "mimetype": "text/x-python",
   "name": "python",
   "nbconvert_exporter": "python",
   "pygments_lexer": "ipython3",
   "version": "3.8.3"
  }
 },
 "nbformat": 4,
 "nbformat_minor": 4
}
